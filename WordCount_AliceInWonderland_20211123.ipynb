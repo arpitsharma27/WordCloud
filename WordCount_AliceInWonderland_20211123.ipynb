{
  "nbformat": 4,
  "nbformat_minor": 0,
  "metadata": {
    "colab": {
      "name": "WordCount_AliceInWonderland.ipynb",
      "provenance": [],
      "authorship_tag": "ABX9TyPR8GF2T52eZUvduJd03M4K",
      "include_colab_link": true
    },
    "kernelspec": {
      "name": "python3",
      "display_name": "Python 3"
    },
    "language_info": {
      "name": "python"
    }
  },
  "cells": [
    {
      "cell_type": "markdown",
      "metadata": {
        "id": "view-in-github",
        "colab_type": "text"
      },
      "source": [
        "<a href=\"https://colab.research.google.com/github/arpitsharma27/WordCloud/blob/main/WordCount_AliceInWonderland_20211123.ipynb\" target=\"_parent\"><img src=\"https://colab.research.google.com/assets/colab-badge.svg\" alt=\"Open In Colab\"/></a>"
      ]
    },
    {
      "cell_type": "markdown",
      "metadata": {
        "id": "BL1x2BABgkP1"
      },
      "source": [
        ""
      ]
    },
    {
      "cell_type": "markdown",
      "metadata": {
        "id": "r6k38t6Sgl_t"
      },
      "source": [
        "# **Creating a Word Cloud - Alice in Wonderland**\n",
        "\n",
        "First attempt to create a Word Cloud.\n",
        "\n",
        "# Table of Contents\n",
        "\n",
        "\n",
        "\n",
        "\n",
        "1. [Collect Data](#collect_data)\n",
        "  \n",
        "  1.1   [Open and Read File](#open_and_read_file)\n",
        "2. [Clean Data](#clean_data)\n",
        "3. [Processing the Data](#processing_the_data)\n",
        "  \n",
        "  3.1 [Creating Unique List](#creating_unique_list)\n",
        "\n",
        "  3.2 [Counting Words](#counting_words)\n",
        "4. [Visualizing Data](#visualizing_data)\n",
        "  \n",
        "  4.1 [Plotting the Word Cloud](#plotting_the_word_cloud)"
      ]
    },
    {
      "cell_type": "markdown",
      "metadata": {
        "id": "nzXmIdhtwq35"
      },
      "source": [
        "<a id='collect_data'></a>\n",
        "#Collect Data"
      ]
    },
    {
      "cell_type": "code",
      "metadata": {
        "id": "zsdamuom89pY"
      },
      "source": [
        "import pandas as pd\n",
        "import numpy as np\n",
        "import matplotlib.pyplot as plt\n",
        "import string\n",
        "from urllib import request\n",
        "from wordcloud import WordCloud"
      ],
      "execution_count": null,
      "outputs": []
    },
    {
      "cell_type": "code",
      "metadata": {
        "id": "DS6ht1gvf6l3"
      },
      "source": [
        "import base64\n",
        "import requests"
      ],
      "execution_count": null,
      "outputs": []
    },
    {
      "cell_type": "code",
      "metadata": {
        "id": "SpTqx4Vp4332"
      },
      "source": [
        "master=\"https://raw.githubusercontent.com/arpitsharma27/PythonPractice/main/alice_in_wonderland.txt\""
      ],
      "execution_count": null,
      "outputs": []
    },
    {
      "cell_type": "markdown",
      "metadata": {
        "id": "glA_Ew_J0d86"
      },
      "source": [
        "<a id='open_and_read_file'></a>\n",
        "###Open and Read File"
      ]
    },
    {
      "cell_type": "code",
      "metadata": {
        "id": "Tdiz-JCANTnP"
      },
      "source": [
        "req = requests.get(master)\n",
        "req = req.text\n",
        "# print(req)"
      ],
      "execution_count": null,
      "outputs": []
    },
    {
      "cell_type": "markdown",
      "metadata": {
        "id": "F4FeN-zI1Ku5"
      },
      "source": [
        "<a id='clean_data'></a>\n",
        "#Clean Data"
      ]
    },
    {
      "cell_type": "code",
      "metadata": {
        "id": "jkeTYBhpvpV7"
      },
      "source": [
        "words=req.split()"
      ],
      "execution_count": null,
      "outputs": []
    },
    {
      "cell_type": "code",
      "metadata": {
        "id": "cwapj-j93Hwx"
      },
      "source": [
        "import re\n",
        "\n",
        "words = [re.sub('[^a-z]', ' ', word, flags=re.I).lower() for word in words]"
      ],
      "execution_count": null,
      "outputs": []
    },
    {
      "cell_type": "code",
      "metadata": {
        "id": "Cr61Ivv05Eig"
      },
      "source": [
        ""
      ],
      "execution_count": null,
      "outputs": []
    },
    {
      "cell_type": "code",
      "metadata": {
        "id": "X2vMe0TgHkDY"
      },
      "source": [
        "#remove_strings=str.maketrans('                           ','!*01.23456,789-\\,?\\'\\.(:;)\\\"!')"
      ],
      "execution_count": null,
      "outputs": []
    },
    {
      "cell_type": "code",
      "metadata": {
        "id": "PkWqOD4SH_bO"
      },
      "source": [
        "#words=[s.translate(remove_strings) for s in words]\n",
        "#words=[words.lower() for words in words]"
      ],
      "execution_count": null,
      "outputs": []
    },
    {
      "cell_type": "markdown",
      "metadata": {
        "id": "lTknh3GE2aDJ"
      },
      "source": [
        "<a id='processing_the_data'></a>\n",
        "#Processing the Data\n",
        "\n",
        "<a id='creating_unique_list'></a>\n",
        "###Creating Unique List"
      ]
    },
    {
      "cell_type": "code",
      "metadata": {
        "id": "Q1HFHcfs0EdJ"
      },
      "source": [
        "words_unique=list(set(words))"
      ],
      "execution_count": null,
      "outputs": []
    },
    {
      "cell_type": "code",
      "metadata": {
        "id": "JbgRl55R_aR_"
      },
      "source": [
        "def word_count(words):\n",
        "  cnt=0\n",
        "  for f in words:\n",
        "    if len(f)>=3:\n",
        "      cnt += 1\n",
        "  return cnt"
      ],
      "execution_count": null,
      "outputs": []
    },
    {
      "cell_type": "markdown",
      "metadata": {
        "id": "rKtDwA872-oR"
      },
      "source": [
        "<a id='counting_words'></a>\n",
        "###Counting Words"
      ]
    },
    {
      "cell_type": "code",
      "metadata": {
        "colab": {
          "base_uri": "https://localhost:8080/"
        },
        "id": "SBisDIP5_o8P",
        "outputId": "005d1559-f09f-4b52-9ad0-b564abda0008"
      },
      "source": [
        "word_count(words)"
      ],
      "execution_count": null,
      "outputs": [
        {
          "output_type": "execute_result",
          "data": {
            "text/plain": [
              "21789"
            ]
          },
          "metadata": {},
          "execution_count": 53
        }
      ]
    },
    {
      "cell_type": "code",
      "metadata": {
        "id": "xvdCZn77_s7u"
      },
      "source": [
        "words_unique=list(set(words))\n",
        "\n",
        "#lower_words_unique = [words_unique.lower() for words_unique in words_unique]\n",
        "\n",
        "#clean_list=[s.translate(remove_strings) for s in lower_words_unique]"
      ],
      "execution_count": null,
      "outputs": []
    },
    {
      "cell_type": "code",
      "metadata": {
        "id": "7ffPpk_AABRl"
      },
      "source": [
        "dicts={}\n",
        "words_unique.sort()\n",
        "for w in words_unique:\n",
        "  if len(w) > 5:\n",
        "    occurences = req.lower().count(w)\n",
        "    if occurences >= 10:\n",
        "      dicts[w]=occurences"
      ],
      "execution_count": null,
      "outputs": []
    },
    {
      "cell_type": "code",
      "metadata": {
        "id": "e18MSymO4nRJ",
        "colab": {
          "base_uri": "https://localhost:8080/"
        },
        "outputId": "e532fc09-bcad-4de3-b471-ff3339a062f4"
      },
      "source": [
        "dicts"
      ],
      "execution_count": null,
      "outputs": [
        {
          "output_type": "execute_result",
          "data": {
            "text/plain": [
              "{'   and': 12,\n",
              " ' after': 41,\n",
              " ' alice': 376,\n",
              " ' anything': 17,\n",
              " ' beautiful': 11,\n",
              " ' before': 32,\n",
              " ' begin': 24,\n",
              " ' certainly': 12,\n",
              " ' change': 21,\n",
              " ' come ': 22,\n",
              " ' dinah': 10,\n",
              " ' first': 44,\n",
              " ' found': 27,\n",
              " ' here ': 16,\n",
              " ' leave': 13,\n",
              " ' mouse': 40,\n",
              " ' never': 38,\n",
              " ' nothing': 30,\n",
              " ' only ': 36,\n",
              " ' perhaps': 13,\n",
              " ' please': 20,\n",
              " ' right ': 18,\n",
              " ' shall': 20,\n",
              " ' she d': 19,\n",
              " ' she s': 74,\n",
              " ' silence': 10,\n",
              " ' speak': 18,\n",
              " ' suppose': 10,\n",
              " ' sure ': 13,\n",
              " ' talking': 16,\n",
              " ' that s': 33,\n",
              " ' their': 49,\n",
              " ' then ': 48,\n",
              " ' there': 80,\n",
              " ' though': 80,\n",
              " ' three': 24,\n",
              " ' turtle': 57,\n",
              " ' well ': 27,\n",
              " ' what ': 81,\n",
              " ' where': 14,\n",
              " ' which': 39,\n",
              " ' without': 25,\n",
              " ' would': 80,\n",
              " ' you d': 19,\n",
              " 'about ': 75,\n",
              " 'added ': 20,\n",
              " 'afraid': 12,\n",
              " 'again ': 12,\n",
              " 'alice ': 212,\n",
              " 'alice s': 18,\n",
              " 'always': 13,\n",
              " 'another': 22,\n",
              " 'another ': 19,\n",
              " 'answer': 14,\n",
              " 'anxious': 17,\n",
              " 'anxiously': 14,\n",
              " 'anxiously ': 11,\n",
              " 'anything': 20,\n",
              " 'anything ': 15,\n",
              " 'appear': 14,\n",
              " 'appeared': 10,\n",
              " 'beautiful': 15,\n",
              " 'beautiful ': 10,\n",
              " 'because': 15,\n",
              " 'before': 38,\n",
              " 'before ': 20,\n",
              " 'began ': 41,\n",
              " 'beginning': 14,\n",
              " 'behind': 13,\n",
              " 'believe': 10,\n",
              " 'better': 14,\n",
              " 'bottle': 10,\n",
              " 'bright': 10,\n",
              " 'butter': 12,\n",
              " 'called': 15,\n",
              " 'caterpillar': 28,\n",
              " 'cause ': 15,\n",
              " 'certain': 17,\n",
              " 'certainly': 14,\n",
              " 'change': 24,\n",
              " 'change ': 11,\n",
              " 'chapter': 12,\n",
              " 'children': 10,\n",
              " 'close ': 11,\n",
              " 'coming': 10,\n",
              " 'consider': 10,\n",
              " 'conversation': 11,\n",
              " 'could ': 63,\n",
              " 'course': 26,\n",
              " 'course ': 11,\n",
              " 'creature': 14,\n",
              " 'creatures': 10,\n",
              " 'cried ': 17,\n",
              " 'croquet': 11,\n",
              " 'curious': 21,\n",
              " 'curious ': 13,\n",
              " 'dormouse': 40,\n",
              " 'dormouse ': 21,\n",
              " 'duchess': 42,\n",
              " 'duchess ': 13,\n",
              " 'either': 12,\n",
              " 'enough': 18,\n",
              " 'enough ': 10,\n",
              " 'everything': 14,\n",
              " 'explain': 11,\n",
              " 'finish': 18,\n",
              " 'finished': 12,\n",
              " 'first ': 29,\n",
              " 'follow': 13,\n",
              " 'footman': 14,\n",
              " 'found ': 29,\n",
              " 'fright': 10,\n",
              " 'garden': 24,\n",
              " 'general': 10,\n",
              " 'getting': 25,\n",
              " 'gloves': 11,\n",
              " 'going ': 24,\n",
              " 'growing': 11,\n",
              " 'gryphon': 55,\n",
              " 'gryphon ': 20,\n",
              " 'happen': 21,\n",
              " 'hardly': 12,\n",
              " 'hastily': 16,\n",
              " 'hatter': 57,\n",
              " 'hatter ': 22,\n",
              " 'having': 10,\n",
              " 'hedgehog': 10,\n",
              " 'herself': 83,\n",
              " 'herself ': 35,\n",
              " 'hurried': 13,\n",
              " 'important': 12,\n",
              " 'indeed': 16,\n",
              " 'interrupt': 12,\n",
              " 'itself': 14,\n",
              " 'king s': 14,\n",
              " 'large ': 29,\n",
              " 'lesson': 13,\n",
              " 'lessons': 10,\n",
              " 'listen': 12,\n",
              " 'little': 128,\n",
              " 'little ': 112,\n",
              " 'lobster': 14,\n",
              " 'looked': 45,\n",
              " 'looking': 32,\n",
              " 'looking ': 30,\n",
              " 'majesty': 12,\n",
              " 'manage': 11,\n",
              " 'march ': 30,\n",
              " 'marked': 16,\n",
              " 'matter': 11,\n",
              " 'might ': 25,\n",
              " 'minute': 32,\n",
              " 'minute ': 15,\n",
              " 'minutes': 11,\n",
              " 'moment': 31,\n",
              " 'moment ': 20,\n",
              " 'mouse ': 42,\n",
              " 'nearly': 11,\n",
              " 'never ': 42,\n",
              " 'nothing': 34,\n",
              " 'nothing ': 24,\n",
              " 'notice': 13,\n",
              " 'offend': 11,\n",
              " 'offended': 10,\n",
              " 'opened': 10,\n",
              " 'other ': 46,\n",
              " 'ought ': 76,\n",
              " 'people': 13,\n",
              " 'perhaps': 17,\n",
              " 'pigeon': 12,\n",
              " 'please': 27,\n",
              " 'please ': 12,\n",
              " 'queen ': 35,\n",
              " 'question': 21,\n",
              " 'rabbit': 52,\n",
              " 'rabbit ': 28,\n",
              " 'rather': 25,\n",
              " 'really': 13,\n",
              " 'reason': 11,\n",
              " 'remark': 28,\n",
              " 'remarked': 10,\n",
              " 'remember': 20,\n",
              " 'repeat': 20,\n",
              " 'repeated': 10,\n",
              " 'replied': 29,\n",
              " 'replied ': 14,\n",
              " 'right ': 26,\n",
              " 'round ': 32,\n",
              " 'saying': 15,\n",
              " 'saying ': 11,\n",
              " 'seemed': 27,\n",
              " 'should': 40,\n",
              " 'silence': 14,\n",
              " 'sister': 11,\n",
              " 'sitting': 10,\n",
              " 'soldier': 11,\n",
              " 'soldiers': 10,\n",
              " 'something': 18,\n",
              " 'something ': 13,\n",
              " 'stand ': 10,\n",
              " 'sudden': 18,\n",
              " 'suddenly': 13,\n",
              " 'suppose': 14,\n",
              " 'surprise': 12,\n",
              " 'talking': 17,\n",
              " 'talking ': 12,\n",
              " 'that s': 39,\n",
              " 'there ': 68,\n",
              " 'thing ': 97,\n",
              " 'things': 31,\n",
              " 'things ': 18,\n",
              " 'think ': 37,\n",
              " 'thinking': 11,\n",
              " 'though': 91,\n",
              " 'thought': 80,\n",
              " 'thought ': 60,\n",
              " 'three ': 21,\n",
              " 'through': 14,\n",
              " 'together': 14,\n",
              " 'tried ': 15,\n",
              " 'trying': 14,\n",
              " 'trying ': 11,\n",
              " 'turned': 18,\n",
              " 'turning': 13,\n",
              " 'turtle': 61,\n",
              " 'turtle ': 30,\n",
              " 'venture': 15,\n",
              " 'voice ': 18,\n",
              " 'waited': 11,\n",
              " 'walked': 10,\n",
              " 'whether': 11,\n",
              " 'while ': 21,\n",
              " 'white ': 27,\n",
              " 'without': 26,\n",
              " 'witness': 10,\n",
              " 'wonder': 32,\n",
              " 'words ': 14,\n",
              " 'would ': 79,\n",
              " 'yourself': 10}"
            ]
          },
          "metadata": {},
          "execution_count": 56
        }
      ]
    },
    {
      "cell_type": "markdown",
      "metadata": {
        "id": "5GS3KbQC3ODZ"
      },
      "source": [
        "<a id='visualizing_data'></a>\n",
        "###Visualizing Data"
      ]
    },
    {
      "cell_type": "code",
      "metadata": {
        "id": "rgjCZnZNA7Rt"
      },
      "source": [
        "wordcloud=WordCloud()"
      ],
      "execution_count": null,
      "outputs": []
    },
    {
      "cell_type": "code",
      "metadata": {
        "colab": {
          "base_uri": "https://localhost:8080/"
        },
        "id": "vR0eAS1yCW-E",
        "outputId": "3418ce72-6084-48b2-fc1a-d6686c53aae7"
      },
      "source": [
        "wordcloud.generate_from_frequencies(frequencies=dicts)"
      ],
      "execution_count": null,
      "outputs": [
        {
          "output_type": "execute_result",
          "data": {
            "text/plain": [
              "<wordcloud.wordcloud.WordCloud at 0x7fc7ab9bff50>"
            ]
          },
          "metadata": {},
          "execution_count": 58
        }
      ]
    },
    {
      "cell_type": "markdown",
      "metadata": {
        "id": "U_NJNMLq3X3R"
      },
      "source": [
        "<a id='plotting_the_word_cloud'></a>\n",
        "###Plotting the Word Cloud"
      ]
    },
    {
      "cell_type": "code",
      "metadata": {
        "colab": {
          "base_uri": "https://localhost:8080/",
          "height": 198
        },
        "id": "JgGiXoELCbSW",
        "outputId": "d562bd72-76c1-43c4-fdca-b455fe3b3e85"
      },
      "source": [
        "plt.figure()\n",
        "plt.imshow(wordcloud, interpolation='bilinear')\n",
        "plt.axis(\"off\")\n",
        "plt.show()"
      ],
      "execution_count": null,
      "outputs": [
        {
          "output_type": "display_data",
          "data": {
            "image/png": "[encoded data removed]",
            "text/plain": [
              "<Figure size 432x288 with 1 Axes>"
            ]
          },
          "metadata": {
            "needs_background": "light"
          }
        }
      ]
    },
    {
      "cell_type": "code",
      "metadata": {
        "id": "yLslkFyDCvUG"
      },
      "source": [
        ""
      ],
      "execution_count": null,
      "outputs": []
    }
  ]
}